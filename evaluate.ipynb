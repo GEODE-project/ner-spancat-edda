{
 "cells": [
  {
   "cell_type": "markdown",
   "metadata": {},
   "source": [
    "# Evaluate\n"
   ]
  },
  {
   "cell_type": "markdown",
   "metadata": {},
   "source": [
    "* fr_spacy_custom_spancat_edda: https://huggingface.co/GEODE/fr_spacy_custom_spancat_edda/\n",
    "\n"
   ]
  },
  {
   "cell_type": "code",
   "execution_count": 4,
   "metadata": {},
   "outputs": [
    {
     "name": "stdout",
     "output_type": "stream",
     "text": [
      "/opt/homebrew/Caskroom/miniforge/base/envs/prodigy-py39/lib/python3.9/site-packages/thinc/compat.py:36: UserWarning: 'has_mps' is deprecated, please use 'torch.backends.mps.is_built()'\n",
      "  hasattr(torch, \"has_mps\")\n",
      "/opt/homebrew/Caskroom/miniforge/base/envs/prodigy-py39/lib/python3.9/site-packages/thinc/compat.py:37: UserWarning: 'has_mps' is deprecated, please use 'torch.backends.mps.is_built()'\n",
      "  and torch.has_mps  # type: ignore[attr-defined]\n",
      "\u001b[38;5;4mℹ Using GPU: 0\u001b[0m\n",
      "\u001b[1m\n",
      "================================== Results ==================================\u001b[0m\n",
      "\n",
      "TOK      100.00\n",
      "SPAN P   94.24 \n",
      "SPAN R   79.83 \n",
      "SPAN F   86.44 \n",
      "SPEED    3732  \n",
      "\n",
      "\u001b[1m\n",
      "============================== SPANS (per type) ==============================\u001b[0m\n",
      "\n",
      "                  P       R       F\n",
      "Relation      96.69   64.60   77.45\n",
      "Latlong        0.00    0.00    0.00\n",
      "NC-Spatial    97.08   93.28   95.14\n",
      "ENE-Spatial   92.22   95.81   93.98\n",
      "Domain-mark   99.19   91.73   95.31\n",
      "NP-Spatial    92.74   95.40   94.05\n",
      "Head          97.44   24.68   39.38\n",
      "ENE-Person    92.16   82.46   87.04\n",
      "NP-Person     92.41   89.33   90.85\n",
      "NP-Misc       93.24   71.88   81.18\n",
      "NC-Person     93.07   70.68   80.34\n",
      "ENE-Misc       0.00    0.00    0.00\n",
      "\n",
      "\u001b[38;5;2m✔ Saved results to reports/metrics_hf_model_test.json\u001b[0m\n"
     ]
    }
   ],
   "source": [
    "!python -m spacy evaluate ./models/fr_spacy_custom_spancat_edda ./datasets/spacy/test.spacy -o ./reports/metrics_hf_model_test.json --gpu-id 0"
   ]
  },
  {
   "cell_type": "code",
   "execution_count": null,
   "metadata": {},
   "outputs": [],
   "source": []
  }
 ],
 "metadata": {
  "colab": {
   "collapsed_sections": [],
   "name": "Geoparsing.ipynb",
   "provenance": [],
   "toc_visible": true
  },
  "kernelspec": {
   "display_name": "Python 3 (ipykernel)",
   "language": "python",
   "name": "python3"
  },
  "language_info": {
   "codemirror_mode": {
    "name": "ipython",
    "version": 3
   },
   "file_extension": ".py",
   "mimetype": "text/x-python",
   "name": "python",
   "nbconvert_exporter": "python",
   "pygments_lexer": "ipython3",
   "version": "3.9.16"
  },
  "vscode": {
   "interpreter": {
    "hash": "736d210290d6fb1193e83af4d102c72889918b431f5fb98003776661da6f3cb9"
   }
  }
 },
 "nbformat": 4,
 "nbformat_minor": 2
}
