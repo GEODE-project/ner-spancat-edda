{
 "cells": [
  {
   "cell_type": "markdown",
   "metadata": {},
   "source": [
    "# Span-based evaluation\n"
   ]
  },
  {
   "cell_type": "markdown",
   "metadata": {},
   "source": [
    "* fr_spacy_custom_spancat_edda: https://huggingface.co/GEODE/fr_spacy_custom_spancat_edda/\n",
    "\n"
   ]
  },
  {
   "cell_type": "code",
   "execution_count": 1,
   "metadata": {},
   "outputs": [
    {
     "name": "stdout",
     "output_type": "stream",
     "text": [
      "/opt/homebrew/Caskroom/miniforge/base/envs/prodigy-py39/lib/python3.9/site-packages/thinc/compat.py:36: UserWarning: 'has_mps' is deprecated, please use 'torch.backends.mps.is_built()'\n",
      "  hasattr(torch, \"has_mps\")\n",
      "/opt/homebrew/Caskroom/miniforge/base/envs/prodigy-py39/lib/python3.9/site-packages/thinc/compat.py:37: UserWarning: 'has_mps' is deprecated, please use 'torch.backends.mps.is_built()'\n",
      "  and torch.has_mps  # type: ignore[attr-defined]\n",
      "\u001b[38;5;4mℹ Using GPU: 0\u001b[0m\n",
      "\u001b[1m\n",
      "================================== Results ==================================\u001b[0m\n",
      "\n",
      "TOK      100.00\n",
      "SPAN P   94.09 \n",
      "SPAN R   79.91 \n",
      "SPAN F   86.42 \n",
      "SPEED    3099  \n",
      "\n",
      "\u001b[1m\n",
      "============================== SPANS (per type) ==============================\u001b[0m\n",
      "\n",
      "                  P       R       F\n",
      "Relation      97.33   64.60   77.66\n",
      "Domain-mark   99.19   91.73   95.31\n",
      "Latlong        0.00    0.00    0.00\n",
      "Head          97.37   24.18   38.74\n",
      "NC-Spatial    96.50   93.24   94.84\n",
      "ENE-Spatial   91.67   95.51   93.55\n",
      "NP-Spatial    92.74   95.95   94.32\n",
      "ENE-Person    92.16   82.46   87.04\n",
      "NC-Person     93.07   70.68   80.34\n",
      "NP-Misc       93.24   71.88   81.18\n",
      "NP-Person     92.47   90.00   91.22\n",
      "ENE-Misc       0.00    0.00    0.00\n",
      "\n",
      "\u001b[38;5;2m✔ Saved results to reports/metrics_hf_model_test.json\u001b[0m\n"
     ]
    }
   ],
   "source": [
    "!python -m spacy evaluate ./models/fr_spacy_custom_spancat_edda ./datasets/spacy/test.spacy -o ./reports/metrics_hf_model_test.json --gpu-id 0"
   ]
  },
  {
   "cell_type": "code",
   "execution_count": null,
   "metadata": {},
   "outputs": [],
   "source": []
  }
 ],
 "metadata": {
  "colab": {
   "collapsed_sections": [],
   "name": "Geoparsing.ipynb",
   "provenance": [],
   "toc_visible": true
  },
  "kernelspec": {
   "display_name": "prodigy-py39",
   "language": "python",
   "name": "python3"
  },
  "language_info": {
   "codemirror_mode": {
    "name": "ipython",
    "version": 3
   },
   "file_extension": ".py",
   "mimetype": "text/x-python",
   "name": "python",
   "nbconvert_exporter": "python",
   "pygments_lexer": "ipython3",
   "version": "3.9.16"
  }
 },
 "nbformat": 4,
 "nbformat_minor": 2
}
