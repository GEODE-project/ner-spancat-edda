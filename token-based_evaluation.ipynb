{
 "cells": [
  {
   "cell_type": "markdown",
   "metadata": {},
   "source": [
    "# Token-based evaluation"
   ]
  },
  {
   "cell_type": "code",
   "execution_count": 1,
   "metadata": {},
   "outputs": [],
   "source": [
    "from datasets import load_dataset\n",
    "import pandas as pd\n",
    "import spacy\n",
    "from tqdm import tqdm\n",
    "\n",
    "from utils import filter_outer_ene_spans, evaluate_multilabel_token_dataset"
   ]
  },
  {
   "cell_type": "code",
   "execution_count": 2,
   "metadata": {},
   "outputs": [
    {
     "data": {
      "text/html": [
       "<div>\n",
       "<style scoped>\n",
       "    .dataframe tbody tr th:only-of-type {\n",
       "        vertical-align: middle;\n",
       "    }\n",
       "\n",
       "    .dataframe tbody tr th {\n",
       "        vertical-align: top;\n",
       "    }\n",
       "\n",
       "    .dataframe thead th {\n",
       "        text-align: right;\n",
       "    }\n",
       "</style>\n",
       "<table border=\"1\" class=\"dataframe\">\n",
       "  <thead>\n",
       "    <tr style=\"text-align: right;\">\n",
       "      <th></th>\n",
       "      <th>text</th>\n",
       "      <th>meta</th>\n",
       "      <th>tokens</th>\n",
       "      <th>spans</th>\n",
       "    </tr>\n",
       "  </thead>\n",
       "  <tbody>\n",
       "    <tr>\n",
       "      <th>0</th>\n",
       "      <td>COMPIEGNE, (Géog. mod.) ville de France, dans ...</td>\n",
       "      <td>{'volume': 3, 'head': 'COMPIEGNE', 'author': '...</td>\n",
       "      <td>[{'text': 'COMPIEGNE', 'start': 0, 'end': 9, '...</td>\n",
       "      <td>[{'text': 'COMPIEGNE', 'start': 0, 'end': 9, '...</td>\n",
       "    </tr>\n",
       "    <tr>\n",
       "      <th>1</th>\n",
       "      <td>HILPERHAUSEN, (Géog.) ville d'Allemagne en Fra...</td>\n",
       "      <td>{'volume': 8, 'head': 'HILPERHAUSEN', 'author'...</td>\n",
       "      <td>[{'text': 'HILPERHAUSEN', 'start': 0, 'end': 1...</td>\n",
       "      <td>[{'text': 'HILPERHAUSEN', 'start': 0, 'end': 1...</td>\n",
       "    </tr>\n",
       "    <tr>\n",
       "      <th>2</th>\n",
       "      <td>Patane ou Patany, (Géog. mod.) royaume des Ind...</td>\n",
       "      <td>{'volume': 12, 'head': 'Patane ou Patany', 'au...</td>\n",
       "      <td>[{'text': 'Patane', 'start': 0, 'end': 6, 'id'...</td>\n",
       "      <td>[{'text': 'Patane ou Patany', 'start': 0, 'end...</td>\n",
       "    </tr>\n",
       "    <tr>\n",
       "      <th>3</th>\n",
       "      <td>* ABYDE ou ABYDOS, sub. Ville maritime de Phry...</td>\n",
       "      <td>{'volume': 1, 'head': 'ABYDE ou ABYDOS', 'auth...</td>\n",
       "      <td>[{'text': '*', 'start': 0, 'end': 1, 'id': 0, ...</td>\n",
       "      <td>[{'text': 'ABYDE ou ABYDOS', 'start': 2, 'end'...</td>\n",
       "    </tr>\n",
       "    <tr>\n",
       "      <th>4</th>\n",
       "      <td>DUSSELDORP, (Géog. mod.) ville du cercle de We...</td>\n",
       "      <td>{'volume': 5, 'head': 'DUSSELDORP', 'author': ...</td>\n",
       "      <td>[{'text': 'DUSSELDORP', 'start': 0, 'end': 10,...</td>\n",
       "      <td>[{'text': 'DUSSELDORP', 'start': 0, 'end': 10,...</td>\n",
       "    </tr>\n",
       "  </tbody>\n",
       "</table>\n",
       "</div>"
      ],
      "text/plain": [
       "                                                text  \\\n",
       "0  COMPIEGNE, (Géog. mod.) ville de France, dans ...   \n",
       "1  HILPERHAUSEN, (Géog.) ville d'Allemagne en Fra...   \n",
       "2  Patane ou Patany, (Géog. mod.) royaume des Ind...   \n",
       "3  * ABYDE ou ABYDOS, sub. Ville maritime de Phry...   \n",
       "4  DUSSELDORP, (Géog. mod.) ville du cercle de We...   \n",
       "\n",
       "                                                meta  \\\n",
       "0  {'volume': 3, 'head': 'COMPIEGNE', 'author': '...   \n",
       "1  {'volume': 8, 'head': 'HILPERHAUSEN', 'author'...   \n",
       "2  {'volume': 12, 'head': 'Patane ou Patany', 'au...   \n",
       "3  {'volume': 1, 'head': 'ABYDE ou ABYDOS', 'auth...   \n",
       "4  {'volume': 5, 'head': 'DUSSELDORP', 'author': ...   \n",
       "\n",
       "                                              tokens  \\\n",
       "0  [{'text': 'COMPIEGNE', 'start': 0, 'end': 9, '...   \n",
       "1  [{'text': 'HILPERHAUSEN', 'start': 0, 'end': 1...   \n",
       "2  [{'text': 'Patane', 'start': 0, 'end': 6, 'id'...   \n",
       "3  [{'text': '*', 'start': 0, 'end': 1, 'id': 0, ...   \n",
       "4  [{'text': 'DUSSELDORP', 'start': 0, 'end': 10,...   \n",
       "\n",
       "                                               spans  \n",
       "0  [{'text': 'COMPIEGNE', 'start': 0, 'end': 9, '...  \n",
       "1  [{'text': 'HILPERHAUSEN', 'start': 0, 'end': 1...  \n",
       "2  [{'text': 'Patane ou Patany', 'start': 0, 'end...  \n",
       "3  [{'text': 'ABYDE ou ABYDOS', 'start': 2, 'end'...  \n",
       "4  [{'text': 'DUSSELDORP', 'start': 0, 'end': 10,...  "
      ]
     },
     "execution_count": 2,
     "metadata": {},
     "output_type": "execute_result"
    }
   ],
   "source": [
    "dataset = load_dataset(\"GEODE/GeoEDdA\")\n",
    "df = pd.DataFrame(dataset['test'])\n",
    "df.head()"
   ]
  },
  {
   "cell_type": "code",
   "execution_count": 3,
   "metadata": {},
   "outputs": [],
   "source": [
    "nlp = spacy.load(\"fr_spacy_custom_spancat_edda\")"
   ]
  },
  {
   "cell_type": "code",
   "execution_count": 4,
   "metadata": {},
   "outputs": [
    {
     "name": "stderr",
     "output_type": "stream",
     "text": [
      "200it [00:03, 61.91it/s]\n"
     ]
    }
   ],
   "source": [
    "gold_docs = []\n",
    "pred_docs = []\n",
    "\n",
    "for index, row in tqdm(df.iterrows()):\n",
    "  gold_docs.append(filter_outer_ene_spans(row['spans']))\n",
    "\n",
    "  doc = nlp(row['text'])\n",
    "  spans = []\n",
    "  for span in doc.spans['sc']:\n",
    "    spans.append({\n",
    "        \"start\": span.start_char,\n",
    "        \"end\": span.end_char,\n",
    "        \"token_start\": span.start,      # index du 1er token du span\n",
    "        \"token_end\": span.end - 1,\n",
    "        \"label\": span.label_,\n",
    "        \"text\": span.text\n",
    "    })\n",
    "  pred_docs.append(filter_outer_ene_spans(spans))\n"
   ]
  },
  {
   "cell_type": "code",
   "execution_count": 5,
   "metadata": {},
   "outputs": [
    {
     "name": "stdout",
     "output_type": "stream",
     "text": [
      "=== Scores par label ===\n",
      "Domain-mark: {'precision': 0.997, 'recall': 0.921, 'f1': 0.958}\n",
      "ENE-Misc: {'precision': 0.0, 'recall': 0.0, 'f1': 0.0}\n",
      "ENE-Person: {'precision': 0.963, 'recall': 0.794, 'f1': 0.871}\n",
      "ENE-Spatial: {'precision': 0.937, 'recall': 0.931, 'f1': 0.934}\n",
      "Head: {'precision': 1.0, 'recall': 0.291, 'f1': 0.451}\n",
      "Latlong: {'precision': 0.0, 'recall': 0.0, 'f1': 0.0}\n",
      "NC-Person: {'precision': 0.926, 'recall': 0.667, 'f1': 0.775}\n",
      "NC-Spatial: {'precision': 0.96, 'recall': 0.921, 'f1': 0.94}\n",
      "NP-Misc: {'precision': 0.925, 'recall': 0.56, 'f1': 0.698}\n",
      "NP-Person: {'precision': 0.938, 'recall': 0.901, 'f1': 0.92}\n",
      "NP-Spatial: {'precision': 0.931, 'recall': 0.939, 'f1': 0.935}\n",
      "Relation: {'precision': 0.963, 'recall': 0.343, 'f1': 0.506}\n",
      "\n",
      "=== Moyenne macro ===\n",
      "{'precision': 0.795, 'recall': 0.606, 'f1': 0.666}\n",
      "\n",
      "=== Moyenne micro ===\n",
      "{'precision': 0.949, 'recall': 0.644, 'f1': 0.768}\n"
     ]
    }
   ],
   "source": [
    "metrics = evaluate_multilabel_token_dataset(gold_docs, pred_docs)\n",
    "\n",
    "print(\"=== Scores par label ===\")\n",
    "for label, scores in metrics['per_label'].items():\n",
    "    print(f\"{label}: {scores}\")\n",
    "\n",
    "print(\"\\n=== Moyenne macro ===\")\n",
    "print(metrics['macro_avg'])\n",
    "\n",
    "print(\"\\n=== Moyenne micro ===\")\n",
    "print(metrics['micro_avg'])\n"
   ]
  },
  {
   "cell_type": "code",
   "execution_count": null,
   "metadata": {},
   "outputs": [],
   "source": []
  },
  {
   "cell_type": "code",
   "execution_count": null,
   "metadata": {},
   "outputs": [],
   "source": []
  },
  {
   "cell_type": "code",
   "execution_count": null,
   "metadata": {},
   "outputs": [],
   "source": []
  },
  {
   "cell_type": "code",
   "execution_count": null,
   "metadata": {},
   "outputs": [],
   "source": []
  },
  {
   "cell_type": "code",
   "execution_count": null,
   "metadata": {},
   "outputs": [],
   "source": []
  },
  {
   "cell_type": "code",
   "execution_count": null,
   "metadata": {},
   "outputs": [],
   "source": []
  }
 ],
 "metadata": {
  "colab": {
   "authorship_tag": "ABX9TyMI4zOoHOL9NpA8OltGNSn9",
   "provenance": []
  },
  "kernelspec": {
   "display_name": "stage24-ner-py310",
   "language": "python",
   "name": "python3"
  },
  "language_info": {
   "codemirror_mode": {
    "name": "ipython",
    "version": 3
   },
   "file_extension": ".py",
   "mimetype": "text/x-python",
   "name": "python",
   "nbconvert_exporter": "python",
   "pygments_lexer": "ipython3",
   "version": "3.10.14"
  }
 },
 "nbformat": 4,
 "nbformat_minor": 4
}
